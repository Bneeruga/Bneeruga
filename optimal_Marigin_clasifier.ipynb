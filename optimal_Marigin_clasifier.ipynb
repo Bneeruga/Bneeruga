{
  "nbformat": 4,
  "nbformat_minor": 0,
  "metadata": {
    "colab": {
      "name": "Hw2",
      "provenance": [],
      "authorship_tag": "ABX9TyPlXwtKC7ah86stgo0f28AV",
      "include_colab_link": true
    },
    "kernelspec": {
      "name": "python3",
      "display_name": "Python 3"
    },
    "language_info": {
      "name": "python"
    }
  },
  "cells": [
    {
      "cell_type": "markdown",
      "metadata": {
        "id": "view-in-github",
        "colab_type": "text"
      },
      "source": [
        "<a href=\"https://colab.research.google.com/github/Bneeruga/Bneeruga/blob/main/optimal_Marigin_clasifier.ipynb\" target=\"_parent\"><img src=\"https://colab.research.google.com/assets/colab-badge.svg\" alt=\"Open In Colab\"/></a>"
      ]
    },
    {
      "cell_type": "code",
      "execution_count": 11,
      "metadata": {
        "id": "jYwqHTFR_ht8",
        "colab": {
          "base_uri": "https://localhost:8080/"
        },
        "outputId": "85b0df25-50d8-49f2-9bd2-d56eb5ce2b4a"
      },
      "outputs": [
        {
          "output_type": "stream",
          "name": "stdout",
          "text": [
            "0.8027946006321112\n",
            "(784,)\n",
            "optimal\n",
            " accuracy for step : 99.19204474829087\n",
            " accuracy for step : 98.77267876200641\n"
          ]
        }
      ],
      "source": [
        "import cvxpy as cp\n",
        "from matplotlib import axis\n",
        "import tensorflow as tf\n",
        "import numpy as np\n",
        "import matplotlib.pyplot as plt\n",
        "from sklearn.metrics import accuracy_score\n",
        "\n",
        "\n",
        "mnist = tf.keras.datasets.mnist\n",
        "(train_images, train_lables),(test_images,test_lables) = mnist.load_data()\n",
        "index_train = np.where( (train_lables == 4) | (train_lables == 5))\n",
        "index_test = np.where( (test_lables == 4) | (test_lables == 5))\n",
        "\n",
        "train_images_26 = train_images[index_train]\n",
        "#flatenning\n",
        "train_images_26 = train_images_26.reshape((len(train_images_26), train_images_26[1].size)) \n",
        "train_lables_26 = train_lables[index_train].astype( 'int')\n",
        "\n",
        "test_images_26 = test_images[index_test]\n",
        "test_images_26 = test_images_26.reshape((len(test_images_26), test_images_26[1].size)) \n",
        "test_lables_26 = test_lables[index_test].astype( 'int')\n",
        "\n",
        "train_lables_26[np.where(train_lables_26 == 4)] = -1\n",
        "train_lables_26[np.where(train_lables_26 == 5)] = 1\n",
        "\n",
        "test_lables_26[np.where(test_lables_26 == 4)] = -1\n",
        "test_lables_26[np.where(test_lables_26 == 5)] = 1\n",
        "\n",
        "#X_train = train_images_26 [range(1000)]\n",
        "#Y_train= train_lables_26[range(1000)]\n",
        "X_train = train_images_26 [range(5000)]\n",
        "Y_train= train_lables_26[range(5000)]\n",
        "\n",
        "test_images_26_w_dummy = test_images_26 [range(1000)]\n",
        "test_lables_26_w_dummy = test_lables_26[range(1000)]\n",
        "\n",
        "# Define and solve the CVXPY problem.\n",
        "w = cp.Variable((X_train[1].shape))\n",
        "\n",
        "b = cp.Variable()\n",
        "\n",
        "objective = cp.Minimize(0.5 * cp.square(cp.norm(w)))\n",
        "constraints = [Y_train[i] * ( X_train[i] @ w.T  + b) >= 1 for i in range(5000)]\n",
        "#constraints = [cp.matmul(Y_train[i], X_train[i] * w.T  + b) >= -1 for i in range(1000)]\n",
        "prob = cp.Problem(objective,constraints)\n",
        "prob.solve()\n",
        "\n",
        "print(b.value)\n",
        "print(w.value.shape)\n",
        "print(prob.status)\n",
        "\n",
        "y_traing_pred = 0\n",
        "length = train_images_26.shape[0]\n",
        "for j in range(train_images_26.shape[0]):\n",
        " predicttrain = np.sign((np.dot(w.value,train_images_26[j]))+b.value)\n",
        " if predicttrain == train_lables_26[j]:\n",
        "   y_traing_pred +=1\n",
        "\n",
        "training_currect = (y_traing_pred/length)*100\n",
        "print(f' accuracy for step : {training_currect}')\n",
        "\n",
        "y_test_pred = 0\n",
        "length = test_images_26.shape[0]\n",
        "for j in range(test_images_26.shape[0]):\n",
        " predicttest = np.sign((np.dot(w.value,test_images_26[j]))+b.value)\n",
        " if predicttest == test_lables_26[j]:\n",
        "   y_test_pred +=1\n",
        "\n",
        "testining_currect = (y_test_pred/length)*100\n",
        "print(f' accuracy for step : {testining_currect}')\n",
        "\n"
      ]
    }
  ]
}